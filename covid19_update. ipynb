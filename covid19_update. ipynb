import matplotlib.pyplot as plt
import numpy as np
import datetime
import string

!pip install -q plotly
!pip install -q cufflinks
!pip install -q chart_studio
import plotly
plotly.io.renderers.default = 'colab'
from plotly import __version__
from plotly.offline import download_plotlyjs, init_notebook_mode, plot, iplot #Allow plotly work offline
import cufflinks as cf
cf.go_offline()
print(__version__) # requires version >= 1.9.0
init_notebook_mode(connected=True)

# Section 1 - Loading our Libraries
import pandas as pd
import matplotlib.pyplot as plt
from matplotlib.dates import DateFormatter
import matplotlib.ticker as ticker
import numpy as np




# Section 2 - Loading and Selecting Data
df = pd.read_csv('https://raw.githubusercontent.com/datasets/covid-19/master/data/countries-aggregated.csv', parse_dates=['Date'])
#df['Cases'] = df[['Confirmed', 'Recovered', 'Deaths']].sum(axis=1)

countries = list((pd.pivot_table(df,index='Date', columns='Country', values='Confirmed',aggfunc='sum')).sum().nlargest(15).keys())
df = df[df['Country'].isin(countries)]

# Section 3 - Creating a Summary Column
#df['Cases'] = df[['Confirmed', 'Recovered', 'Deaths']].sum(axis=1)

# Section 4 - Restructuring our Data
covid = df.pivot(index='Date', columns='Country', values='Confirmed')
covid = covid[list(covid.sum(axis=0).sort_values(ascending=False).keys())] #Rearrange the dataframe collumns by the descending total cases 

covid1=covid.sum(axis = 1).to_frame(name="Total_Cases")
covid1['Month']=pd.DatetimeIndex(covid1.index).month
covid1=covid1.groupby(['Month']).sum().reset_index()
covid1['Cumulative_Sum'] = covid1['Total_Cases'].cumsum()

x = np.linspace(0, 5, 11)
y = x ** 2

fig = plt.figure(figsize=(24,20),facecolor='w')

# ax1: Total confirmed cases globally
ax1 = plt.subplot2grid((3,3), (0,0), colspan=3)
ax1.bar(covid1['Month'],covid1['Cumulative_Sum'])
ax1.yaxis.set_major_formatter(ticker.StrMethodFormatter('{x:,.0f}'))
ax1.set_title("Total confirmed cases globally")
ax1.set_ylim(0, 600000000)
ax1.set_xlabel('Months')
ax1.set_ylabel('Number of Cases')
ax1.grid()
for x, y in zip(covid1['Month'],covid1['Cumulative_Sum']):
  label = "{:.2f}".format(y)
  ax1.annotate(label, # this is the text
               (x,y), # this is the point to label
               textcoords="offset points", # how to position the text
               xytext=(0,10), # distance from text to points (x,y)
               ha='center') # horizontal alignment can be left, right or center

  #ax1.text(covid.sum(axis = 1).index[-1],covid.sum(axis = 1).max()-1 , "  {} people".format(covid.sum(axis = 1).max()))

#ax2: Total confirmed cases by country
ax2 = plt.subplot2grid((3,3), (1,0), colspan=2)

  #Extract top 15 countries with the most cases 
keys=list(covid.sum(axis=0).sort_values(ascending=False).keys())  

  # Section 7 - Creating the Visualization

random_color=['black','green','red','red','red','red','red','red','red','red','red','red','red','red','red']

ax2.plot(covid, linewidth=5,color=random_color)
ax2.yaxis.set_major_formatter(ticker.StrMethodFormatter('{x:,.0f}'))
ax2.grid(color='#d4d4d4')
ax2.set_xlabel('Date')
ax2.set_ylabel('# of Cases')
ax2.set_title( "Total COVID-19 Cases by Country", fontdict=None, loc='center')


# Section 6 - Generating Colours and Style
values = []
for i in range(0,15):
  values.append(ax2.get_lines()[i].get_color())

colors = {} 
for key in keys: 
    for value in values: 
        colors[key] = value 
        values.remove(value) 
        break  

for country in countries:
    ax2.text(x = covid.index[-1], y = covid[country].max(), color = colors[country], s = country, weight = 'bold')

# Section 8 - Assigning Colour
for country in list(colors.keys()):
    ax2.text(x = covid.index[-1], y = covid[country].max(), color = colors[country], s = country, weight = 'bold')




#ax3: _____________________________________________________________________
ax3 = plt.subplot2grid((3,3), (2,0), colspan=2)


  # Section 9 scrap the population data from web 
import requests
from bs4 import BeautifulSoup
def getpop(url):
    r = requests.get(url)
    soup = BeautifulSoup(r.content, 'html.parser')
    target = soup.find(
        "div", class_="col-md-8 country-pop-description").find_all_next("strong")[1]
    return int(target.text.replace(',', ''))

populations = {} 

for key in keys: 
  if key == "US":
    url = "https://www.worldometers.info/world-population/us-population/"
  elif key =="United Kingdom":
    url = "https://www.worldometers.info/world-population/uk-population/"
  else:
    url = "https://www.worldometers.info/world-population/"+key.lower()+"-population/"
  pop = getpop(url)
  populations[key]=[pop]


  # Section 10 - Calculating Rates per 100,000

percapita = covid.copy()
for country in list(percapita.columns):
    percapita[country] = percapita[country]/populations[country]*100000


ax3.plot(percapita, linewidth=5)
ax3.yaxis.set_major_formatter(ticker.StrMethodFormatter('{x:,.0f}'))
ax3.grid(color='#d4d4d4')
ax3.set_xlabel('Date')
ax3.set_ylabel('# of Cases per 100,000 People')
ax3.set_title( "Per Capita COVID-19 Cases by Country", fontdict=None, loc='center')


for country in list(colors.keys()):
    ax3.text(x = percapita.index[-1], y = percapita[country].max(), color = colors[country], s = country, weight = 'bold')




#ax4: Stacked bar char of top 15 coutries with most cases 

ax4 = plt.subplot2grid((3,3), (1,2), rowspan=2)

df = pd.read_csv('https://raw.githubusercontent.com/datasets/covid-19/master/data/countries-aggregated.csv', parse_dates=['Date'])

df2 = df.pivot(index='Date', columns='Country', values='Confirmed')
df2.groupby(by=df2.index.month).sum()
df2=df2[list(df2.sum(axis=0).sort_values(ascending=False).keys())]
df2=df2.resample('M').sum()
percentage = df2.div(df2.sum(axis=1), axis=0)
percentage2=percentage.iloc[:, 0:15]
percentage2['others']=percentage.iloc[:, 15:-1].sum(axis=1)



a = percentage2.iloc[:,0]
bottom = []
bottom.append(a)
for i in range(1,16):
  a = a + percentage2.iloc[:,i]
  bottom.append(a)

ax4.bar(list(percentage2.index.month),percentage2.iloc[:,0])

for i in range(1,16):
  ax4.bar(list(percentage2.index.month),percentage2.iloc[:,i], bottom = bottom[i-1])
ax4.legend()

fig.tight_layout()

